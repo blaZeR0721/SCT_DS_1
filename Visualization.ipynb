{
 "cells": [
  {
   "cell_type": "code",
   "execution_count": null,
   "id": "a6a59bb2",
   "metadata": {},
   "outputs": [],
   "source": [
    "# Import the required libraries\n",
    "import pandas as pd\n",
    "import matplotlib.pyplot as plt\n",
    "import seaborn as sns"
   ]
  },
  {
   "cell_type": "code",
   "execution_count": null,
   "id": "dd40b933",
   "metadata": {},
   "outputs": [],
   "source": [
    "# Load the dataset\n",
    "df = pd.read_csv('D:/SCT_DS_1/pop_data.csv')"
   ]
  },
  {
   "cell_type": "code",
   "execution_count": null,
   "id": "51279578",
   "metadata": {},
   "outputs": [],
   "source": [
    "# Displays first 5 rows of the DataFrame\n",
    "df.head()"
   ]
  },
  {
   "cell_type": "code",
   "execution_count": null,
   "id": "2f6b2dab",
   "metadata": {},
   "outputs": [],
   "source": [
    "# Displays last 5 rows of the DataFrame\n",
    "df.tail()"
   ]
  },
  {
   "cell_type": "code",
   "execution_count": null,
   "id": "d3170382",
   "metadata": {},
   "outputs": [],
   "source": [
    "# Displays the Column name and data type\n",
    "df.dtypes"
   ]
  },
  {
   "cell_type": "code",
   "execution_count": null,
   "id": "98f00719",
   "metadata": {},
   "outputs": [],
   "source": [
    "# Displays the shape of the Dataframe\n",
    "df.shape"
   ]
  },
  {
   "cell_type": "code",
   "execution_count": null,
   "id": "92208207",
   "metadata": {},
   "outputs": [],
   "source": [
    "# Summary statistics\n",
    "df.describe()"
   ]
  },
  {
   "cell_type": "code",
   "execution_count": null,
   "id": "bd862f3a",
   "metadata": {},
   "outputs": [],
   "source": [
    "# Displays column names\n",
    "df.columns"
   ]
  },
  {
   "cell_type": "code",
   "execution_count": null,
   "id": "7007c147",
   "metadata": {},
   "outputs": [],
   "source": [
    "# Quick summary of the DataFrame\n",
    "df.info()"
   ]
  },
  {
   "cell_type": "code",
   "execution_count": null,
   "id": "981f3b32",
   "metadata": {},
   "outputs": [],
   "source": [
    "# check for missing values and drop rows containing them\n",
    "df.isnull().sum()\n",
    "df = df.dropna()"
   ]
  },
  {
   "cell_type": "code",
   "execution_count": null,
   "id": "549ddb2e",
   "metadata": {},
   "outputs": [],
   "source": [
    "# check for duplicates and drop rows containing them\n",
    "df.duplicated().sum()\n",
    "df = df.drop_duplicates()"
   ]
  },
  {
   "cell_type": "code",
   "execution_count": null,
   "id": "187979a9",
   "metadata": {},
   "outputs": [],
   "source": [
    "# Reset index after cleaning\n",
    "df = df.reset_index(drop=True)"
   ]
  }
 ],
 "metadata": {
  "kernelspec": {
   "display_name": "Python 3 (ipykernel)",
   "language": "python",
   "name": "python3"
  },
  "language_info": {
   "codemirror_mode": {
    "name": "ipython",
    "version": 3
   },
   "file_extension": ".py",
   "mimetype": "text/x-python",
   "name": "python",
   "nbconvert_exporter": "python",
   "pygments_lexer": "ipython3",
   "version": "3.13.3"
  }
 },
 "nbformat": 4,
 "nbformat_minor": 5
}
